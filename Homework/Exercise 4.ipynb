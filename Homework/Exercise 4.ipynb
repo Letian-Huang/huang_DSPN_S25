{
  "cells": [
    {
      "cell_type": "markdown",
      "metadata": {
        "id": "view-in-github",
        "colab_type": "text"
      },
      "source": [
        "<a href=\"https://colab.research.google.com/github/Letian-Huang/huang_DSPN_S25/blob/main/Homework/Exercise%204.ipynb\" target=\"_parent\"><img src=\"https://colab.research.google.com/assets/colab-badge.svg\" alt=\"Open In Colab\"/></a>"
      ]
    },
    {
      "cell_type": "markdown",
      "metadata": {
        "id": "-2W919d2ZXp7"
      },
      "source": [
        "# Exercise 4: Data cleansing"
      ]
    },
    {
      "cell_type": "markdown",
      "source": [
        "1. Loading the Data 1/1\n",
        "2. Data Cleansing 4/4\n",
        "3. Data Manipulation with Tidyverse 4/4"
      ],
      "metadata": {
        "id": "2xzNfxSunrsh"
      }
    },
    {
      "cell_type": "markdown",
      "metadata": {
        "id": "L4nOzVhyZXqK"
      },
      "source": [
        "This homework assignment is designed to get you comfortable loading and working with data tables.\n",
        "\n",
        "You will need to download the **LexicalData_toclean.csv** file from the *Homework/lexDat* folder in the class GitHub repository.\n",
        "\n",
        "This data is a subset of the [English Lexicon Project database](https://elexicon.wustl.edu/). It provides the reaction times (in milliseconds) of many subjects as they are presented with letter strings and asked to decide, as quickly and as accurately as possible, whether the letter string is a word or not.\n",
        "\n",
        "*Data courtesy of Balota, D.A., Yap, M.J., Cortese, M.J., Hutchison, K.A., Kessler, B., Loftis, B., Neely, J.H., Nelson, D.L., Simpson, G.B., & Treiman, R. (2007). The English Lexicon Project. Behavior Research Methods, 39, 445-459.*"
      ]
    },
    {
      "cell_type": "markdown",
      "metadata": {
        "id": "9DsyBTB6ZXqN"
      },
      "source": [
        "---\n",
        "## 1. Loading the Data (1 point)\n",
        "\n",
        "Use the `setwd` and `read.csv` functions to load the data table from the **LexicalData_toclean.csv** file. Use the `head` function to look at the first few rows of the data."
      ]
    },
    {
      "cell_type": "code",
      "execution_count": null,
      "metadata": {
        "id": "UnBVazYfZXqP",
        "vscode": {
          "languageId": "r"
        },
        "outputId": "8f501298-a299-4ec9-a6b5-1010ccbf51bc"
      },
      "outputs": [
        {
          "data": {
            "text/html": [
              "<table class=\"dataframe\">\n",
              "<caption>A data.frame: 6 x 7</caption>\n",
              "<thead>\n",
              "\t<tr><th></th><th scope=col>Sub_ID</th><th scope=col>Trial</th><th scope=col>Type</th><th scope=col>D_RT</th><th scope=col>D_Word</th><th scope=col>Outlier</th><th scope=col>D_Zscore</th></tr>\n",
              "\t<tr><th></th><th scope=col>&lt;int&gt;</th><th scope=col>&lt;int&gt;</th><th scope=col>&lt;int&gt;</th><th scope=col>&lt;chr&gt;</th><th scope=col>&lt;chr&gt;</th><th scope=col>&lt;chr&gt;</th><th scope=col>&lt;dbl&gt;</th></tr>\n",
              "</thead>\n",
              "<tbody>\n",
              "\t<tr><th scope=row>1</th><td>157</td><td>1</td><td>1</td><td>710  </td><td>browse     </td><td>false</td><td>-0.437</td></tr>\n",
              "\t<tr><th scope=row>2</th><td> 67</td><td>1</td><td>1</td><td>1,094</td><td>refrigerant</td><td>false</td><td> 0.825</td></tr>\n",
              "\t<tr><th scope=row>3</th><td>120</td><td>1</td><td>1</td><td>587  </td><td>gaining    </td><td>false</td><td>-0.645</td></tr>\n",
              "\t<tr><th scope=row>4</th><td> 21</td><td>1</td><td>1</td><td>984  </td><td>cheerless  </td><td>false</td><td> 0.025</td></tr>\n",
              "\t<tr><th scope=row>5</th><td>236</td><td>1</td><td>1</td><td>577  </td><td>pattered   </td><td>false</td><td>-0.763</td></tr>\n",
              "\t<tr><th scope=row>6</th><td>236</td><td>2</td><td>1</td><td>715  </td><td>conjures   </td><td>false</td><td>-0.364</td></tr>\n",
              "</tbody>\n",
              "</table>\n"
            ],
            "text/latex": [
              "A data.frame: 6 x 7\n",
              "\\begin{tabular}{r|lllllll}\n",
              "  & Sub\\_ID & Trial & Type & D\\_RT & D\\_Word & Outlier & D\\_Zscore\\\\\n",
              "  & <int> & <int> & <int> & <chr> & <chr> & <chr> & <dbl>\\\\\n",
              "\\hline\n",
              "\t1 & 157 & 1 & 1 & 710   & browse      & false & -0.437\\\\\n",
              "\t2 &  67 & 1 & 1 & 1,094 & refrigerant & false &  0.825\\\\\n",
              "\t3 & 120 & 1 & 1 & 587   & gaining     & false & -0.645\\\\\n",
              "\t4 &  21 & 1 & 1 & 984   & cheerless   & false &  0.025\\\\\n",
              "\t5 & 236 & 1 & 1 & 577   & pattered    & false & -0.763\\\\\n",
              "\t6 & 236 & 2 & 1 & 715   & conjures    & false & -0.364\\\\\n",
              "\\end{tabular}\n"
            ],
            "text/markdown": [
              "\n",
              "A data.frame: 6 x 7\n",
              "\n",
              "| <!--/--> | Sub_ID &lt;int&gt; | Trial &lt;int&gt; | Type &lt;int&gt; | D_RT &lt;chr&gt; | D_Word &lt;chr&gt; | Outlier &lt;chr&gt; | D_Zscore &lt;dbl&gt; |\n",
              "|---|---|---|---|---|---|---|---|\n",
              "| 1 | 157 | 1 | 1 | 710   | browse      | false | -0.437 |\n",
              "| 2 |  67 | 1 | 1 | 1,094 | refrigerant | false |  0.825 |\n",
              "| 3 | 120 | 1 | 1 | 587   | gaining     | false | -0.645 |\n",
              "| 4 |  21 | 1 | 1 | 984   | cheerless   | false |  0.025 |\n",
              "| 5 | 236 | 1 | 1 | 577   | pattered    | false | -0.763 |\n",
              "| 6 | 236 | 2 | 1 | 715   | conjures    | false | -0.364 |\n",
              "\n"
            ],
            "text/plain": [
              "  Sub_ID Trial Type D_RT  D_Word      Outlier D_Zscore\n",
              "1 157    1     1    710   browse      false   -0.437  \n",
              "2  67    1     1    1,094 refrigerant false    0.825  \n",
              "3 120    1     1    587   gaining     false   -0.645  \n",
              "4  21    1     1    984   cheerless   false    0.025  \n",
              "5 236    1     1    577   pattered    false   -0.763  \n",
              "6 236    2     1    715   conjures    false   -0.364  "
            ]
          },
          "metadata": {},
          "output_type": "display_data"
        }
      ],
      "source": [
        "library(tidyverse)\n",
        "# If you are running this on your local computer, wet your workign directory to\n",
        "# the location of the lexDat data by setting your harddrive. Uncomment this line\n",
        "# and change the location to where it is on your computer.\n",
        "setwd(\"/Users/letian/Desktop/huang_DSPN_S25/Homework\")\n",
        "dat <- read.csv(\"LexicalData_toclean.csv\")\n",
        "head(dat)"
      ]
    },
    {
      "cell_type": "markdown",
      "metadata": {
        "id": "vk5oha2W4G7h"
      },
      "source": [
        "The **LexicalData_toclean.csv** file contains the variables `Sub_ID` (Subject ID), `Trial` (the trial number), `D_RT` (reaction time) and `D_Word` (the word they were responding to)."
      ]
    },
    {
      "cell_type": "markdown",
      "metadata": {
        "id": "SJuj14ZyZXqS"
      },
      "source": [
        "---\n",
        "## 2. Data Cleansing (4 points)\n",
        "\n",
        "There are three things we want to do to make this data more useable:\n",
        "* Get rid of the commas in the reaction time values, and make this variable numeric (hint: check out the functions `gsub` and `as.numeric`).\n",
        "* Get rid of rows where the reaction times are missing (hint: you can use the `filter` function from `tidyverse`, but you'll need to load the library).\n",
        "* Make sure all of the reaction times are positive.\n",
        "\n",
        "Write code that will copy the data to a new variable and make the above changes."
      ]
    },
    {
      "cell_type": "code",
      "execution_count": null,
      "metadata": {
        "id": "5pXIjADNZXqU",
        "vscode": {
          "languageId": "r"
        }
      },
      "outputs": [],
      "source": [
        "dat <- dat %>%\n",
        "    mutate(RT_Clean = as.numeric(gsub(\",\",\"\", D_RT)))\n",
        "\n",
        "dat_cleaned <- dat %>%\n",
        "    filter(!is.na(RT_Clean),\n",
        "           RT_Clean > 0)"
      ]
    },
    {
      "cell_type": "markdown",
      "metadata": {
        "id": "a3tOGnZL5E9S"
      },
      "source": [
        "For each of the three actions above, is it addressing a data anomaly (as described in the Müller reading)? If so, name the *type* of anomaly it's addressing."
      ]
    },
    {
      "cell_type": "markdown",
      "metadata": {
        "id": "6CvlJZOK5qx0"
      },
      "source": [
        "> *Write your response here.*\n",
        "> * First action: Syntactical anomaly (Domain format errors)\n",
        "> * Second action: Coverage anomaly (Missing values)\n",
        "> * Third action: Semantic anomaly (Integrity constraint violations)"
      ]
    },
    {
      "cell_type": "markdown",
      "metadata": {
        "id": "AX4B1CxyZXqX"
      },
      "source": [
        "---\n",
        "## 3. Data Manipulation with Tidyverse (4 points)\n",
        "\n",
        "Now let's use `tidyverse` functions to play around with this data a bit. Use the piping operator (`%>%`) in both of these code cells.\n",
        "\n",
        "First, let's get some useful summary **statistics** using `summarise`. Output a table that tells us how many observations there are in the data set, as well as the mean and standard deviation of the reaction times."
      ]
    },
    {
      "cell_type": "code",
      "execution_count": null,
      "metadata": {
        "id": "S_DJDsUzZXqY",
        "vscode": {
          "languageId": "r"
        }
      },
      "outputs": [],
      "source": [
        "smry <- dat_cleaned %>%\n",
        "    summarise(n_obs = nrow(dat_cleaned),\n",
        "              RT_mean = mean(RT_Clean),\n",
        "              RT_std = sd(RT_Clean))"
      ]
    },
    {
      "cell_type": "markdown",
      "metadata": {
        "id": "RgKbS2AqIDQ-"
      },
      "source": [
        "Now, we'll use `mutate` to re-number the trials, starting from 0 instead of 1. Make a new variable that is equal to the `Trial` variable minus one."
      ]
    },
    {
      "cell_type": "code",
      "execution_count": null,
      "metadata": {
        "id": "ejQvUAZRZXqd",
        "vscode": {
          "languageId": "r"
        }
      },
      "outputs": [],
      "source": [
        "dat_cleaned <- dat_cleaned %>%\n",
        "    mutate(Trial_New = Trial - 1)"
      ]
    },
    {
      "cell_type": "markdown",
      "metadata": {
        "id": "Kd7KBaJ_d7R-"
      },
      "source": [
        "---\n",
        "## 4. Plotting Data (1 point)\n",
        "\n",
        "Use the `plot()` function to visualize the data, in a way that helps you see if there's a relationship between `D_RT` and your new trial variable."
      ]
    },
    {
      "cell_type": "code",
      "execution_count": null,
      "metadata": {
        "id": "bBfOTgeVd7R-",
        "vscode": {
          "languageId": "r"
        }
      },
      "outputs": [],
      "source": [
        "plot(dat_cleaned$Trial_New, dat_cleaned$RT_Clean)"
      ]
    },
    {
      "cell_type": "markdown",
      "metadata": {
        "id": "0VzdGM-ud7R-"
      },
      "source": [
        "That's all for this assignment! When you are finished, save the notebook as Exercise4.ipynb, push it to your class GitHub repository and send the instructors a link to your notebook via Canvas."
      ]
    },
    {
      "cell_type": "markdown",
      "metadata": {
        "id": "C4MPECMmZXqe"
      },
      "source": [
        "**DUE:** 5pm EST, Feb 10, 2025"
      ]
    },
    {
      "cell_type": "markdown",
      "metadata": {
        "id": "r9GUofXN4BVy"
      },
      "source": [
        "**IMPORTANT** Did you collaborate with anyone on this assignment? If so, list their names here.\n",
        "> *Someone's Name*"
      ]
    }
  ],
  "metadata": {
    "colab": {
      "provenance": [],
      "toc_visible": true,
      "include_colab_link": true
    },
    "kernelspec": {
      "display_name": "R",
      "language": "R",
      "name": "ir"
    },
    "language_info": {
      "codemirror_mode": "r",
      "file_extension": ".r",
      "mimetype": "text/x-r-source",
      "name": "R",
      "pygments_lexer": "r",
      "version": "4.3.3"
    }
  },
  "nbformat": 4,
  "nbformat_minor": 0
}